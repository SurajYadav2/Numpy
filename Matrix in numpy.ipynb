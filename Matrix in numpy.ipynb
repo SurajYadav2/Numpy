{
 "cells": [
  {
   "cell_type": "code",
   "execution_count": 2,
   "id": "fb3b7b76",
   "metadata": {},
   "outputs": [],
   "source": [
    " import numpy as np"
   ]
  },
  {
   "cell_type": "code",
   "execution_count": 4,
   "id": "d1657a53",
   "metadata": {},
   "outputs": [
    {
     "name": "stdout",
     "output_type": "stream",
     "text": [
      "[10 11 12 13 14 15 16 17 18 19 20 21 22 23 24 25 26 27 28 29 30 31 32 33]\n"
     ]
    }
   ],
   "source": [
    "arr=np.arange(10,34)\n",
    "print(arr)"
   ]
  },
  {
   "cell_type": "code",
   "execution_count": 6,
   "id": "9f57b1e9",
   "metadata": {},
   "outputs": [],
   "source": [
    "A=np.array([[2,3,4,5],[10,12,13,14]])"
   ]
  },
  {
   "cell_type": "code",
   "execution_count": 8,
   "id": "1f5d3964",
   "metadata": {},
   "outputs": [
    {
     "name": "stdout",
     "output_type": "stream",
     "text": [
      "[ 2  3  4  5 10 12 13 14]\n"
     ]
    }
   ],
   "source": [
    "B=A.flatten()\n",
    "print(B)"
   ]
  },
  {
   "cell_type": "markdown",
   "id": "488a2195",
   "metadata": {},
   "source": [
    "# Broadcasting Arithmetic oprations on Matrix"
   ]
  },
  {
   "cell_type": "code",
   "execution_count": 15,
   "id": "d9110195",
   "metadata": {},
   "outputs": [
    {
     "name": "stdout",
     "output_type": "stream",
     "text": [
      "[[ 1  2  3]\n",
      " [10 20 30]]\n"
     ]
    }
   ],
   "source": [
    "A=np.array([[1,2,3],[10,20,30]])\n",
    "print(A)"
   ]
  },
  {
   "cell_type": "code",
   "execution_count": 12,
   "id": "0ef23eb9",
   "metadata": {},
   "outputs": [
    {
     "name": "stdout",
     "output_type": "stream",
     "text": [
      "[ 5 10 15]\n"
     ]
    }
   ],
   "source": [
    "B=np.array([5,10,15])\n",
    "print(B)"
   ]
  },
  {
   "cell_type": "code",
   "execution_count": 16,
   "id": "e37a95b6",
   "metadata": {},
   "outputs": [
    {
     "name": "stdout",
     "output_type": "stream",
     "text": [
      "[[ 6 12 18]\n",
      " [15 30 45]]\n"
     ]
    }
   ],
   "source": [
    "C=A+B\n",
    "print(C)"
   ]
  },
  {
   "cell_type": "code",
   "execution_count": 18,
   "id": "3ea7a943",
   "metadata": {},
   "outputs": [
    {
     "name": "stdout",
     "output_type": "stream",
     "text": [
      "[[ -4  -8 -12]\n",
      " [  5  10  15]]\n"
     ]
    }
   ],
   "source": [
    "D=A-B\n",
    "print(D)"
   ]
  },
  {
   "cell_type": "code",
   "execution_count": 20,
   "id": "eb96793d",
   "metadata": {},
   "outputs": [
    {
     "name": "stdout",
     "output_type": "stream",
     "text": [
      "[[  5  20  45]\n",
      " [ 50 200 450]]\n"
     ]
    }
   ],
   "source": [
    "E=A*B\n",
    "print(E)"
   ]
  },
  {
   "cell_type": "code",
   "execution_count": 23,
   "id": "f6bed9ca",
   "metadata": {},
   "outputs": [
    {
     "name": "stdout",
     "output_type": "stream",
     "text": [
      "[[ 1  2  3]\n",
      " [10 20 30]]\n"
     ]
    }
   ],
   "source": [
    "print(A)\n"
   ]
  },
  {
   "cell_type": "code",
   "execution_count": 25,
   "id": "7ede7ed1",
   "metadata": {},
   "outputs": [
    {
     "name": "stdout",
     "output_type": "stream",
     "text": [
      "[[ 1 10]\n",
      " [ 2 20]\n",
      " [ 3 30]]\n"
     ]
    }
   ],
   "source": [
    "F=A.T # T stand for transpose\n",
    "print(F)"
   ]
  },
  {
   "cell_type": "code",
   "execution_count": 28,
   "id": "2f3e66a7",
   "metadata": {},
   "outputs": [
    {
     "name": "stdout",
     "output_type": "stream",
     "text": [
      "66\n"
     ]
    }
   ],
   "source": [
    "print(np.sum(A)) # To calculate sum of entire array"
   ]
  },
  {
   "cell_type": "code",
   "execution_count": 30,
   "id": "dee9227a",
   "metadata": {},
   "outputs": [
    {
     "name": "stdout",
     "output_type": "stream",
     "text": [
      "[ 6 60]\n"
     ]
    }
   ],
   "source": [
    "print(np.sum(A,axis=1)) # to calculate sum of coulmn wise"
   ]
  },
  {
   "cell_type": "code",
   "execution_count": 32,
   "id": "d817a942",
   "metadata": {},
   "outputs": [
    {
     "name": "stdout",
     "output_type": "stream",
     "text": [
      "[11 22 33]\n"
     ]
    }
   ],
   "source": [
    "print(np.sum(A,axis=0)) # to calculate sum of Row wise"
   ]
  },
  {
   "cell_type": "code",
   "execution_count": 34,
   "id": "474bc431",
   "metadata": {},
   "outputs": [
    {
     "name": "stdout",
     "output_type": "stream",
     "text": [
      "[[10 11 12]\n",
      " [13 14 15]\n",
      " [16 17 18]\n",
      " [19 20 21]\n",
      " [22 23 24]\n",
      " [25 26 27]\n",
      " [28 29 30]\n",
      " [31 32 33]]\n"
     ]
    }
   ],
   "source": [
    "B=np.array(np.arange(10,34).reshape(8,3))\n",
    "print(B)"
   ]
  },
  {
   "cell_type": "code",
   "execution_count": 39,
   "id": "e85e745a",
   "metadata": {},
   "outputs": [
    {
     "name": "stdout",
     "output_type": "stream",
     "text": [
      "516\n",
      "[33 42 51 60 69 78 87 96]\n",
      "[164 172 180]\n"
     ]
    }
   ],
   "source": [
    "print(np.sum(B))\n",
    "print(np.sum(B,axis=1))\n",
    "print(np.sum(B,axis=0))"
   ]
  },
  {
   "cell_type": "code",
   "execution_count": 41,
   "id": "13c54aa8",
   "metadata": {},
   "outputs": [
    {
     "name": "stdout",
     "output_type": "stream",
     "text": [
      "Average: 21.5\n",
      "Mean: 21.5\n"
     ]
    }
   ],
   "source": [
    "print(\"Average:\",np.average(B)) #to find out the average\n",
    "print(\"Mean:\",np.mean(B))"
   ]
  },
  {
   "cell_type": "code",
   "execution_count": 45,
   "id": "62e4118f",
   "metadata": {},
   "outputs": [
    {
     "name": "stdout",
     "output_type": "stream",
     "text": [
      "Max: 33\n",
      "Max: 10\n"
     ]
    }
   ],
   "source": [
    "print(\"Max:\",np.max(B))\n",
    "print(\"Max:\",np.min(B))"
   ]
  },
  {
   "cell_type": "code",
   "execution_count": 47,
   "id": "492a94f4",
   "metadata": {},
   "outputs": [
    {
     "name": "stdout",
     "output_type": "stream",
     "text": [
      "SQRT: [ 9.  3.  7. 10. 11.]\n"
     ]
    }
   ],
   "source": [
    "D=np.array([81,9,49,100,121])\n",
    "print(\"SQRT:\",np.sqrt(D))"
   ]
  },
  {
   "cell_type": "code",
   "execution_count": 51,
   "id": "1a7e2092",
   "metadata": {},
   "outputs": [
    {
     "name": "stdout",
     "output_type": "stream",
     "text": [
      "[[100 110 120]\n",
      " [130 140 150]\n",
      " [160 170 180]\n",
      " [190 200 210]\n",
      " [220 230 240]\n",
      " [250 260 270]\n",
      " [280 290 300]\n",
      " [310 320 330]]\n",
      "[[20 21 22]\n",
      " [23 24 25]\n",
      " [26 27 28]\n",
      " [29 30 31]\n",
      " [32 33 34]\n",
      " [35 36 37]\n",
      " [38 39 40]\n",
      " [41 42 43]]\n"
     ]
    }
   ],
   "source": [
    "V=10 #Scalar Value\n",
    "na=B*V\n",
    "nadd=B+V\n",
    "print(na)\n",
    "print(nadd)"
   ]
  },
  {
   "cell_type": "code",
   "execution_count": 53,
   "id": "23f3cdbf",
   "metadata": {},
   "outputs": [
    {
     "name": "stdout",
     "output_type": "stream",
     "text": [
      "[[10 20]\n",
      " [ 2  4]]\n",
      "[[5 6]\n",
      " [7 8]]\n"
     ]
    }
   ],
   "source": [
    "A=np.array([[10,20],[2,4]])\n",
    "B=np.array([[5,6],[7,8]])\n",
    "print(A)\n",
    "print(B)"
   ]
  },
  {
   "cell_type": "code",
   "execution_count": 55,
   "id": "c8ecbf4a",
   "metadata": {},
   "outputs": [
    {
     "name": "stdout",
     "output_type": "stream",
     "text": [
      "[[ 50 120]\n",
      " [ 14  32]]\n"
     ]
    }
   ],
   "source": [
    "mul=A*B\n",
    "print(mul)"
   ]
  },
  {
   "cell_type": "code",
   "execution_count": 58,
   "id": "883efc25",
   "metadata": {},
   "outputs": [
    {
     "name": "stdout",
     "output_type": "stream",
     "text": [
      "[[10 20]\n",
      " [ 2  4]]\n",
      "[[5 6]\n",
      " [7 8]]\n",
      "[[190 220]\n",
      " [ 38  44]]\n"
     ]
    }
   ],
   "source": [
    "print(A)\n",
    "print(B)\n",
    "dotmul=np.dot(A,B)\n",
    "print(dotmul)"
   ]
  },
  {
   "cell_type": "code",
   "execution_count": 60,
   "id": "10e0da10",
   "metadata": {},
   "outputs": [
    {
     "name": "stdout",
     "output_type": "stream",
     "text": [
      "[[10 20]\n",
      " [ 2  4]]\n",
      "[[5 6 4]\n",
      " [7 8 2]]\n",
      "[[190 220  80]\n",
      " [ 38  44  16]]\n"
     ]
    }
   ],
   "source": [
    "A=np.array([[10,20],[2,4]])\n",
    "B=np.array([[5,6,4],[7,8,2]])\n",
    "print(A)\n",
    "print(B)\n",
    "dotmul=np.dot(A,B)\n",
    "print(dotmul)"
   ]
  },
  {
   "cell_type": "markdown",
   "id": "f222c538",
   "metadata": {},
   "source": [
    "# Matplot library"
   ]
  },
  {
   "cell_type": "code",
   "execution_count": 68,
   "id": "c0eecc7a",
   "metadata": {},
   "outputs": [
    {
     "name": "stdout",
     "output_type": "stream",
     "text": [
      "Requirement already satisfied: matplotlib in c:\\users\\suraj\\appdata\\local\\programs\\python\\python311\\lib\\site-packages (3.7.2)Note: you may need to restart the kernel to use updated packages.\n"
     ]
    },
    {
     "name": "stderr",
     "output_type": "stream",
     "text": [
      "\n",
      "[notice] A new release of pip available: 22.3.1 -> 23.2.1\n",
      "[notice] To update, run: python.exe -m pip install --upgrade pip\n"
     ]
    },
    {
     "name": "stdout",
     "output_type": "stream",
     "text": [
      "\n",
      "Requirement already satisfied: contourpy>=1.0.1 in c:\\users\\suraj\\appdata\\local\\programs\\python\\python311\\lib\\site-packages (from matplotlib) (1.1.0)\n",
      "Requirement already satisfied: cycler>=0.10 in c:\\users\\suraj\\appdata\\local\\programs\\python\\python311\\lib\\site-packages (from matplotlib) (0.11.0)\n",
      "Requirement already satisfied: fonttools>=4.22.0 in c:\\users\\suraj\\appdata\\local\\programs\\python\\python311\\lib\\site-packages (from matplotlib) (4.41.1)\n",
      "Requirement already satisfied: kiwisolver>=1.0.1 in c:\\users\\suraj\\appdata\\local\\programs\\python\\python311\\lib\\site-packages (from matplotlib) (1.4.4)\n",
      "Requirement already satisfied: numpy>=1.20 in c:\\users\\suraj\\appdata\\local\\programs\\python\\python311\\lib\\site-packages (from matplotlib) (1.25.0)\n",
      "Requirement already satisfied: packaging>=20.0 in c:\\users\\suraj\\appdata\\local\\programs\\python\\python311\\lib\\site-packages (from matplotlib) (23.1)\n",
      "Requirement already satisfied: pillow>=6.2.0 in c:\\users\\suraj\\appdata\\local\\programs\\python\\python311\\lib\\site-packages (from matplotlib) (10.0.0)\n",
      "Requirement already satisfied: pyparsing<3.1,>=2.3.1 in c:\\users\\suraj\\appdata\\local\\programs\\python\\python311\\lib\\site-packages (from matplotlib) (3.0.9)\n",
      "Requirement already satisfied: python-dateutil>=2.7 in c:\\users\\suraj\\appdata\\local\\programs\\python\\python311\\lib\\site-packages (from matplotlib) (2.8.2)\n",
      "Requirement already satisfied: six>=1.5 in c:\\users\\suraj\\appdata\\local\\programs\\python\\python311\\lib\\site-packages (from python-dateutil>=2.7->matplotlib) (1.16.0)\n"
     ]
    }
   ],
   "source": [
    "pip install matplotlib;"
   ]
  },
  {
   "cell_type": "code",
   "execution_count": 69,
   "id": "ce25918e",
   "metadata": {},
   "outputs": [
    {
     "name": "stdout",
     "output_type": "stream",
     "text": [
      "[[10 20]\n",
      " [ 2  4]]\n"
     ]
    },
    {
     "data": {
      "text/plain": [
       "array([[False,  True],\n",
       "       [False, False]])"
      ]
     },
     "execution_count": 69,
     "metadata": {},
     "output_type": "execute_result"
    }
   ],
   "source": [
    "print(A)\n",
    "A>10   #Boolean Indexing  Gives boolean array depends on the condition"
   ]
  },
  {
   "cell_type": "code",
   "execution_count": 70,
   "id": "f0c48912",
   "metadata": {},
   "outputs": [
    {
     "data": {
      "text/plain": [
       "array([20])"
      ]
     },
     "execution_count": 70,
     "metadata": {},
     "output_type": "execute_result"
    }
   ],
   "source": [
    "A[A>10] # Extract true values from the array"
   ]
  },
  {
   "cell_type": "code",
   "execution_count": 73,
   "id": "65560e39",
   "metadata": {},
   "outputs": [],
   "source": [
    "import matplotlib.pyplot as plt"
   ]
  },
  {
   "cell_type": "code",
   "execution_count": 76,
   "id": "54157145",
   "metadata": {},
   "outputs": [
    {
     "data": {
      "image/png": "[encoded data removed]",
      "text/plain": [
       "<Figure size 640x480 with 1 Axes>"
      ]
     },
     "metadata": {},
     "output_type": "display_data"
    }
   ],
   "source": [
    "x=10\n",
    "y=5\n",
    "plt.plot(x,y)\n",
    "plt.show()"
   ]
  },
  {
   "cell_type": "code",
   "execution_count": 79,
   "id": "7ececfa5",
   "metadata": {},
   "outputs": [
    {
     "data": {
      "text/plain": [
       "[<matplotlib.lines.Line2D at 0x1fef17a4950>]"
      ]
     },
     "execution_count": 79,
     "metadata": {},
     "output_type": "execute_result"
    },
    {
     "data": {
      "image/png": "[encoded data removed]",
      "text/plain": [
       "<Figure size 640x480 with 1 Axes>"
      ]
     },
     "metadata": {},
     "output_type": "display_data"
    }
   ],
   "source": [
    "x=np.linspace(0,3,20)\n",
    "y=np.linspace(0,9,20)\n",
    "plt.plot(x,y) # line plot"
   ]
  },
  {
   "cell_type": "code",
   "execution_count": 81,
   "id": "9fdcd0ff",
   "metadata": {},
   "outputs": [
    {
     "data": {
      "text/plain": [
       "[<matplotlib.lines.Line2D at 0x1fef49a5cd0>]"
      ]
     },
     "execution_count": 81,
     "metadata": {},
     "output_type": "execute_result"
    },
    {
     "data": {
      "image/png": "[encoded data removed]",
      "text/plain": [
       "<Figure size 640x480 with 1 Axes>"
      ]
     },
     "metadata": {},
     "output_type": "display_data"
    }
   ],
   "source": [
    "x=np.linspace(0,3,5)\n",
    "y=np.linspace(0,9,5)\n",
    "plt.plot(x,y)\n",
    "plt.plot(x,y,'o') #dot ploting"
   ]
  }
 ],
 "metadata": {
  "kernelspec": {
   "display_name": "Python 3 (ipykernel)",
   "language": "python",
   "name": "python3"
  },
  "language_info": {
   "codemirror_mode": {
    "name": "ipython",
    "version": 3
   },
   "file_extension": ".py",
   "mimetype": "text/x-python",
   "name": "python",
   "nbconvert_exporter": "python",
   "pygments_lexer": "ipython3",
   "version": "3.11.4"
  }
 },
 "nbformat": 4,
 "nbformat_minor": 5
}
