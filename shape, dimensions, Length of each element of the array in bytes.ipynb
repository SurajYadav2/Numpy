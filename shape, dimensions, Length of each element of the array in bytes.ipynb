{
 "cells": [
  {
   "cell_type": "code",
   "execution_count": 1,
   "id": "810afdd0",
   "metadata": {},
   "outputs": [
    {
     "name": "stdout",
     "output_type": "stream",
     "text": [
      "Shape of the array: (4, 2)\n",
      "Number of dimensions (axes): 2\n",
      "Length of each element in bytes: 4\n"
     ]
    }
   ],
   "source": [
    "import numpy as np\n",
    "\n",
    "# Create a 4x2 integer array\n",
    "array = np.array([[1, 2],\n",
    "                  [3, 4],\n",
    "                  [5, 6],\n",
    "                  [7, 8]])\n",
    "\n",
    "# Print the shape of the array\n",
    "print(\"Shape of the array:\", array.shape)\n",
    "\n",
    "# Print the number of dimensions (axes) of the array\n",
    "print(\"Number of dimensions (axes):\", array.ndim)\n",
    "\n",
    "# Print the length of each element in bytes\n",
    "print(\"Length of each element in bytes:\", array.itemsize)\n"
   ]
  }
 ],
 "metadata": {
  "kernelspec": {
   "display_name": "Python 3 (ipykernel)",
   "language": "python",
   "name": "python3"
  },
  "language_info": {
   "codemirror_mode": {
    "name": "ipython",
    "version": 3
   },
   "file_extension": ".py",
   "mimetype": "text/x-python",
   "name": "python",
   "nbconvert_exporter": "python",
   "pygments_lexer": "ipython3",
   "version": "3.11.3"
  }
 },
 "nbformat": 4,
 "nbformat_minor": 5
}
