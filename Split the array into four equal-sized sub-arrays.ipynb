{
 "cells": [
  {
   "cell_type": "code",
   "execution_count": 2,
   "id": "0af3d04c",
   "metadata": {},
   "outputs": [],
   "source": [
    "import numpy as np"
   ]
  },
  {
   "cell_type": "code",
   "execution_count": 5,
   "id": "500c5a64",
   "metadata": {},
   "outputs": [
    {
     "data": {
      "text/plain": [
       "array([[10, 11, 12],\n",
       "       [13, 14, 15],\n",
       "       [16, 17, 18],\n",
       "       [19, 20, 21],\n",
       "       [22, 23, 24],\n",
       "       [25, 26, 27],\n",
       "       [28, 29, 30],\n",
       "       [31, 32, 33]])"
      ]
     },
     "execution_count": 5,
     "metadata": {},
     "output_type": "execute_result"
    }
   ],
   "source": [
    "# Create an 8x3 integer array from a range between 10 to 34 with a difference of 1\n",
    "array = np.arange(10, 34).reshape(8, 3)\n",
    "array"
   ]
  },
  {
   "cell_type": "code",
   "execution_count": 8,
   "id": "d3db449c",
   "metadata": {},
   "outputs": [
    {
     "data": {
      "text/plain": [
       "[array([[10, 11, 12],\n",
       "        [13, 14, 15]]),\n",
       " array([[16, 17, 18],\n",
       "        [19, 20, 21]]),\n",
       " array([[22, 23, 24],\n",
       "        [25, 26, 27]]),\n",
       " array([[28, 29, 30],\n",
       "        [31, 32, 33]])]"
      ]
     },
     "execution_count": 8,
     "metadata": {},
     "output_type": "execute_result"
    }
   ],
   "source": [
    "# Split the array into four equal-sized sub-arrays\n",
    "sub_arrays = np.array_split(array, 4)\n",
    "sub_arrays"
   ]
  },
  {
   "cell_type": "code",
   "execution_count": 10,
   "id": "cd774db5",
   "metadata": {},
   "outputs": [
    {
     "name": "stdout",
     "output_type": "stream",
     "text": [
      "Sub-array 1:\n",
      "[[10 11 12]\n",
      " [13 14 15]]\n",
      "\n",
      "Sub-array 2:\n",
      "[[16 17 18]\n",
      " [19 20 21]]\n",
      "\n",
      "Sub-array 3:\n",
      "[[22 23 24]\n",
      " [25 26 27]]\n",
      "\n",
      "Sub-array 4:\n",
      "[[28 29 30]\n",
      " [31 32 33]]\n",
      "\n"
     ]
    }
   ],
   "source": [
    "# Print the sub-arrays\n",
    "for i, sub_array in enumerate(sub_arrays):\n",
    "    print(f\"Sub-array {i + 1}:\\n{sub_array}\\n\")"
   ]
  }
 ],
 "metadata": {
  "kernelspec": {
   "display_name": "Python 3 (ipykernel)",
   "language": "python",
   "name": "python3"
  },
  "language_info": {
   "codemirror_mode": {
    "name": "ipython",
    "version": 3
   },
   "file_extension": ".py",
   "mimetype": "text/x-python",
   "name": "python",
   "nbconvert_exporter": "python",
   "pygments_lexer": "ipython3",
   "version": "3.11.3"
  }
 },
 "nbformat": 4,
 "nbformat_minor": 5
}
