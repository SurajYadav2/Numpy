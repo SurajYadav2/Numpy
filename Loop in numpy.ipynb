{
 "cells": [
  {
   "cell_type": "code",
   "execution_count": 1,
   "id": "74bc46ba",
   "metadata": {},
   "outputs": [],
   "source": [
    "import numpy as np"
   ]
  },
  {
   "cell_type": "code",
   "execution_count": 2,
   "id": "b84df7d6",
   "metadata": {},
   "outputs": [
    {
     "name": "stdout",
     "output_type": "stream",
     "text": [
      "[ 1  2  3  4  5  6  7  8  9 10 11 12 13 14 15 16 17 18 19 20]\n"
     ]
    }
   ],
   "source": [
    "arr=np.arange(1,21)\n",
    "print(arr)"
   ]
  },
  {
   "cell_type": "code",
   "execution_count": 3,
   "id": "5f822b63",
   "metadata": {},
   "outputs": [
    {
     "name": "stdout",
     "output_type": "stream",
     "text": [
      "1\n",
      "2\n",
      "3\n",
      "4\n",
      "5\n",
      "6\n",
      "7\n",
      "8\n",
      "9\n",
      "10\n",
      "11\n",
      "12\n",
      "13\n",
      "14\n",
      "15\n",
      "16\n",
      "17\n",
      "18\n",
      "19\n",
      "20\n"
     ]
    }
   ],
   "source": [
    "for i in arr:\n",
    "    print(i)"
   ]
  },
  {
   "cell_type": "code",
   "execution_count": 4,
   "id": "6f494707",
   "metadata": {},
   "outputs": [
    {
     "name": "stdout",
     "output_type": "stream",
     "text": [
      "[[1 2 3]\n",
      " [4 5 6]\n",
      " [7 8 9]]\n"
     ]
    }
   ],
   "source": [
    "arr1=np.array([[1,2,3],[4,5,6],[7,8,9]])\n",
    "print(arr1)"
   ]
  },
  {
   "cell_type": "code",
   "execution_count": 5,
   "id": "ad6fe1ce",
   "metadata": {},
   "outputs": [
    {
     "name": "stdout",
     "output_type": "stream",
     "text": [
      "[1 2 3]\n",
      "[4 5 6]\n",
      "[7 8 9]\n"
     ]
    }
   ],
   "source": [
    "for x in arr1:\n",
    "    print(x)"
   ]
  },
  {
   "cell_type": "code",
   "execution_count": 6,
   "id": "51271a85",
   "metadata": {},
   "outputs": [
    {
     "name": "stdout",
     "output_type": "stream",
     "text": [
      "1\n",
      "2\n",
      "3\n",
      "4\n",
      "5\n",
      "6\n",
      "7\n",
      "8\n",
      "9\n"
     ]
    }
   ],
   "source": [
    "for x in arr1:\n",
    "    for i in x:\n",
    "        print(i)"
   ]
  },
  {
   "cell_type": "code",
   "execution_count": 7,
   "id": "f4fd4539",
   "metadata": {},
   "outputs": [
    {
     "name": "stdout",
     "output_type": "stream",
     "text": [
      "[[[  1   2   3]\n",
      "  [ 20  30  40]]\n",
      "\n",
      " [[ 25  65  32]\n",
      "  [100 105 107]]]\n"
     ]
    }
   ],
   "source": [
    "arr2=np.array([[[1,2,3,],[20,30,40]],[[25,65,32],[100,105,107]]])\n",
    "print(arr2)"
   ]
  },
  {
   "cell_type": "code",
   "execution_count": 8,
   "id": "f8c3d6cd",
   "metadata": {},
   "outputs": [
    {
     "name": "stdout",
     "output_type": "stream",
     "text": [
      "[[ 1  2  3]\n",
      " [20 30 40]]\n",
      "[[ 25  65  32]\n",
      " [100 105 107]]\n"
     ]
    }
   ],
   "source": [
    "for x in arr2:\n",
    "    print(x)"
   ]
  },
  {
   "cell_type": "code",
   "execution_count": 9,
   "id": "2e6b74e0",
   "metadata": {},
   "outputs": [
    {
     "name": "stdout",
     "output_type": "stream",
     "text": [
      "1\n",
      "2\n",
      "3\n",
      "20\n",
      "30\n",
      "40\n",
      "25\n",
      "65\n",
      "32\n",
      "100\n",
      "105\n",
      "107\n"
     ]
    }
   ],
   "source": [
    "for x in arr2:  #loop run 3 time because of 3d array\n",
    "    for y in x:\n",
    "        for z in y:\n",
    "            print(z)"
   ]
  },
  {
   "cell_type": "code",
   "execution_count": 10,
   "id": "68d4dcda",
   "metadata": {},
   "outputs": [
    {
     "name": "stdout",
     "output_type": "stream",
     "text": [
      "1\n",
      "2\n",
      "3\n",
      "20\n",
      "30\n",
      "40\n",
      "25\n",
      "65\n",
      "32\n",
      "100\n",
      "105\n",
      "107\n"
     ]
    }
   ],
   "source": [
    "for x in np.nditer(arr2):  #because of np.nditer we dont have to run loop 3 times\n",
    "    print(x)"
   ]
  },
  {
   "cell_type": "code",
   "execution_count": 11,
   "id": "e9c9fe11",
   "metadata": {},
   "outputs": [
    {
     "name": "stdout",
     "output_type": "stream",
     "text": [
      "[[ 1  2  3  4]\n",
      " [10 12 13 14]]\n"
     ]
    }
   ],
   "source": [
    "arr3=np.array([[1,2,3,4],[10,12,13,14]])\n",
    "print(arr3)"
   ]
  },
  {
   "cell_type": "code",
   "execution_count": 12,
   "id": "f5a06e82",
   "metadata": {},
   "outputs": [
    {
     "name": "stdout",
     "output_type": "stream",
     "text": [
      "1\n",
      "4\n",
      "10\n",
      "14\n"
     ]
    }
   ],
   "source": [
    "for x in np.nditer(arr3[:,::3]):\n",
    "    print(x)"
   ]
  },
  {
   "cell_type": "code",
   "execution_count": 13,
   "id": "4db6f9f0",
   "metadata": {},
   "outputs": [
    {
     "name": "stdout",
     "output_type": "stream",
     "text": [
      "[[ 1  2  3  4]\n",
      " [10 12 13 14]\n",
      " [20 35 65 45]\n",
      " [85 35 75 61]]\n"
     ]
    }
   ],
   "source": [
    "arr4=np.array([[1,2,3,4],[10,12,13,14],[20,35,65,45],[85,35,75,61]])\n",
    "print(arr4)"
   ]
  },
  {
   "cell_type": "code",
   "execution_count": 14,
   "id": "171567ff",
   "metadata": {},
   "outputs": [
    {
     "name": "stdout",
     "output_type": "stream",
     "text": [
      "1\n",
      "3\n",
      "10\n",
      "13\n",
      "20\n",
      "65\n",
      "85\n",
      "75\n"
     ]
    }
   ],
   "source": [
    "for x in np.nditer(arr4[0:4,0:3:2]):\n",
    "    print(x)"
   ]
  },
  {
   "cell_type": "code",
   "execution_count": 15,
   "id": "1ac0c6d9",
   "metadata": {},
   "outputs": [
    {
     "name": "stdout",
     "output_type": "stream",
     "text": [
      "(0, 0) 1\n",
      "(0, 1) 2\n",
      "(0, 2) 3\n",
      "(0, 3) 4\n",
      "(1, 0) 10\n",
      "(1, 1) 12\n",
      "(1, 2) 13\n",
      "(1, 3) 14\n",
      "(2, 0) 20\n",
      "(2, 1) 35\n",
      "(2, 2) 65\n",
      "(2, 3) 45\n",
      "(3, 0) 85\n",
      "(3, 1) 35\n",
      "(3, 2) 75\n",
      "(3, 3) 61\n"
     ]
    }
   ],
   "source": [
    "for idx, x in np.ndenumerate(arr4):  #idx means index number that is position\n",
    "    print(idx,x)"
   ]
  },
  {
   "cell_type": "code",
   "execution_count": 16,
   "id": "1e8c4d92",
   "metadata": {},
   "outputs": [
    {
     "name": "stdout",
     "output_type": "stream",
     "text": [
      "[10 12 15 14 45 35 25 12]\n"
     ]
    }
   ],
   "source": [
    "arr1=np.array([10,12,15,14])\n",
    "arr2=np.array([45,35,25,12])\n",
    "arr3=np.concatenate((arr1,arr2))\n",
    "print(arr3)"
   ]
  },
  {
   "cell_type": "code",
   "execution_count": 17,
   "id": "ce5edefa",
   "metadata": {},
   "outputs": [
    {
     "name": "stdout",
     "output_type": "stream",
     "text": [
      "[[10 12]\n",
      " [15 14]]\n",
      "[[45 35]\n",
      " [25 12]]\n"
     ]
    }
   ],
   "source": [
    "arr1=np.array([[10,12],[15,14]])\n",
    "arr2=np.array([[45,35],[25,12]])\n",
    "print(arr1)\n",
    "print(arr2)"
   ]
  },
  {
   "cell_type": "code",
   "execution_count": 18,
   "id": "4029f43d",
   "metadata": {},
   "outputs": [
    {
     "name": "stdout",
     "output_type": "stream",
     "text": [
      "[[10 12 45 35]\n",
      " [15 14 25 12]]\n"
     ]
    }
   ],
   "source": [
    "arr3=np.concatenate((arr1,arr2),axis=1)\n",
    "print(arr3)"
   ]
  },
  {
   "cell_type": "code",
   "execution_count": 19,
   "id": "f509e816",
   "metadata": {},
   "outputs": [
    {
     "name": "stdout",
     "output_type": "stream",
     "text": [
      "[[10 12 45 35 95 65]\n",
      " [15 14 25 12 45 15]\n",
      " [45 65 85 25 75 85]]\n"
     ]
    }
   ],
   "source": [
    "arr4=np.array([[10,12],[15,14],[45,65]])\n",
    "arr5=np.array([[45,35],[25,12],[85,25]])\n",
    "arr6=np.array([[95,65],[45,15],[75,85]])\n",
    "arr7=np.concatenate((arr4,arr5,arr6),axis=1)\n",
    "print(arr7)"
   ]
  },
  {
   "cell_type": "code",
   "execution_count": 20,
   "id": "8f6ac2ea",
   "metadata": {},
   "outputs": [
    {
     "name": "stdout",
     "output_type": "stream",
     "text": [
      "[[10 45]\n",
      " [12 35]\n",
      " [15 25]\n",
      " [14 12]]\n"
     ]
    }
   ],
   "source": [
    "arr1=np.array([10,12,15,14])\n",
    "arr2=np.array([45,35,25,12])\n",
    "arr3=np.stack((arr1,arr2),axis=1)  #Rows data converted in coulmn\n",
    "print(arr3)"
   ]
  },
  {
   "cell_type": "code",
   "execution_count": 21,
   "id": "fce06587",
   "metadata": {},
   "outputs": [
    {
     "name": "stdout",
     "output_type": "stream",
     "text": [
      "[[[10 12]\n",
      "  [45 35]\n",
      "  [95 65]]\n",
      "\n",
      " [[15 14]\n",
      "  [25 12]\n",
      "  [45 15]]\n",
      "\n",
      " [[45 65]\n",
      "  [85 25]\n",
      "  [75 85]]]\n"
     ]
    }
   ],
   "source": [
    "arr4=np.array([[10,12],[15,14],[45,65]])\n",
    "arr5=np.array([[45,35],[25,12],[85,25]])\n",
    "arr6=np.array([[95,65],[45,15],[75,85]])\n",
    "arr3=np.stack((arr4,arr5,arr6),axis=1)\n",
    "print(arr3)"
   ]
  },
  {
   "cell_type": "code",
   "execution_count": 22,
   "id": "aeea55e7",
   "metadata": {},
   "outputs": [
    {
     "name": "stdout",
     "output_type": "stream",
     "text": [
      "[[10 12 45 35 95 65]\n",
      " [15 14 25 12 45 15]\n",
      " [45 65 85 25 75 85]]\n"
     ]
    }
   ],
   "source": [
    "arr4=np.array([[10,12],[15,14],[45,65]])\n",
    "arr5=np.array([[45,35],[25,12],[85,25]])\n",
    "arr6=np.array([[95,65],[45,15],[75,85]])\n",
    "arr3=np.hstack((arr4,arr5,arr6))  #hstack works as concatnate with axis=1\n",
    "print(arr3)"
   ]
  },
  {
   "cell_type": "code",
   "execution_count": 23,
   "id": "a21538ea",
   "metadata": {},
   "outputs": [
    {
     "name": "stdout",
     "output_type": "stream",
     "text": [
      "[[10 12]\n",
      " [15 14]\n",
      " [45 65]\n",
      " [45 35]\n",
      " [25 12]\n",
      " [85 25]\n",
      " [95 65]\n",
      " [45 15]\n",
      " [75 85]]\n"
     ]
    }
   ],
   "source": [
    "arr4=np.array([[10,12],[15,14],[45,65]])\n",
    "arr5=np.array([[45,35],[25,12],[85,25]])\n",
    "arr6=np.array([[95,65],[45,15],[75,85]])\n",
    "arr3=np.vstack((arr4,arr5,arr6))  \n",
    "print(arr3)"
   ]
  },
  {
   "cell_type": "code",
   "execution_count": 24,
   "id": "6753138e",
   "metadata": {},
   "outputs": [
    {
     "name": "stdout",
     "output_type": "stream",
     "text": [
      "[ 1  2  3  4  5  6  7  8  9 10 11 12 13 14 15 16 17 18 19 20]\n"
     ]
    }
   ],
   "source": [
    "arr4=np.arange(1,21)\n",
    "print(arr4)"
   ]
  },
  {
   "cell_type": "code",
   "execution_count": 25,
   "id": "f605916e",
   "metadata": {},
   "outputs": [
    {
     "name": "stdout",
     "output_type": "stream",
     "text": [
      "[array([1, 2, 3, 4]), array([5, 6, 7, 8]), array([ 9, 10, 11, 12]), array([13, 14, 15, 16]), array([17, 18, 19, 20])]\n"
     ]
    }
   ],
   "source": [
    "newarr4=np.array_split(arr4, 5)\n",
    "print(newarr4)"
   ]
  },
  {
   "cell_type": "code",
   "execution_count": 26,
   "id": "ee0546ed",
   "metadata": {},
   "outputs": [
    {
     "name": "stdout",
     "output_type": "stream",
     "text": [
      "[1 2 3 4]\n",
      "[5 6 7 8]\n",
      "[13 14 15 16]\n",
      "[ 9 10 11 12]\n"
     ]
    }
   ],
   "source": [
    "newarr4=np.array_split(arr4, 5)\n",
    "print(newarr4[0])\n",
    "print(newarr4[1])\n",
    "print(newarr4[3])\n",
    "print(newarr4[2])"
   ]
  },
  {
   "cell_type": "code",
   "execution_count": 27,
   "id": "931406fb",
   "metadata": {},
   "outputs": [
    {
     "name": "stdout",
     "output_type": "stream",
     "text": [
      "[array([10, 12]), array([15, 14])]\n",
      "[10 12]\n",
      "[15 14]\n"
     ]
    }
   ],
   "source": [
    "arr4=np.array([[10,12,45],[25,15,14],[75,45,65]])\n",
    "arr4=np.array_split(arr1, 2)\n",
    "print(arr4)\n",
    "print(arr4[0])\n",
    "print(arr4[1])"
   ]
  },
  {
   "cell_type": "code",
   "execution_count": 28,
   "id": "1f647388",
   "metadata": {},
   "outputs": [
    {
     "name": "stdout",
     "output_type": "stream",
     "text": [
      "[[1 2]\n",
      " [2 3]\n",
      " [4 5]]\n",
      "5\n"
     ]
    }
   ],
   "source": [
    "arr1=np.array([[1,2],[2,3],[4,5],[8,9],[9,6]])\n",
    "arr4=np.array_split(arr1, 2)\n",
    "print(arr4[0])\n",
    "print(arr4[0][2][1])"
   ]
  }
 ],
 "metadata": {
  "kernelspec": {
   "display_name": "Python 3 (ipykernel)",
   "language": "python",
   "name": "python3"
  },
  "language_info": {
   "codemirror_mode": {
    "name": "ipython",
    "version": 3
   },
   "file_extension": ".py",
   "mimetype": "text/x-python",
   "name": "python",
   "nbconvert_exporter": "python",
   "pygments_lexer": "ipython3",
   "version": "3.11.3"
  }
 },
 "nbformat": 4,
 "nbformat_minor": 5
}
